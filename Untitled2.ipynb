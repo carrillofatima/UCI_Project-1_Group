{
 "cells": [
  {
   "cell_type": "code",
   "execution_count": 15,
   "metadata": {},
   "outputs": [],
   "source": [
    "import pandas as pd\n",
    "import numpy as np\n",
    "\n",
    "\n",
    "census_file = \"Resources/US_Census.csv\"\n",
    "us_census_df = pd.read_csv(census_file)"
   ]
  },
  {
   "cell_type": "code",
   "execution_count": 16,
   "metadata": {},
   "outputs": [
    {
     "data": {
      "text/html": [
       "<div>\n",
       "<style scoped>\n",
       "    .dataframe tbody tr th:only-of-type {\n",
       "        vertical-align: middle;\n",
       "    }\n",
       "\n",
       "    .dataframe tbody tr th {\n",
       "        vertical-align: top;\n",
       "    }\n",
       "\n",
       "    .dataframe thead th {\n",
       "        text-align: right;\n",
       "    }\n",
       "</style>\n",
       "<table border=\"1\" class=\"dataframe\">\n",
       "  <thead>\n",
       "    <tr style=\"text-align: right;\">\n",
       "      <th></th>\n",
       "      <th>YEAR</th>\n",
       "      <th>LocationAbbr</th>\n",
       "      <th>LocationDesc</th>\n",
       "      <th>TopicType</th>\n",
       "      <th>TopicDesc</th>\n",
       "      <th>DataSource</th>\n",
       "      <th>Data_Value_Type</th>\n",
       "      <th>Data_Value</th>\n",
       "      <th>Gender</th>\n",
       "      <th>Age</th>\n",
       "      <th>...</th>\n",
       "      <th>Source_File_USCB</th>\n",
       "      <th>Data_Pulled</th>\n",
       "      <th>LocationID</th>\n",
       "      <th>TopicTypeId</th>\n",
       "      <th>TopicId</th>\n",
       "      <th>MeasureId</th>\n",
       "      <th>StratificationID1</th>\n",
       "      <th>StratificationID2</th>\n",
       "      <th>SubMeasureID</th>\n",
       "      <th>DisplayOrder</th>\n",
       "    </tr>\n",
       "  </thead>\n",
       "  <tbody>\n",
       "    <tr>\n",
       "      <th>0</th>\n",
       "      <td>2015</td>\n",
       "      <td>VA</td>\n",
       "      <td>Virginia</td>\n",
       "      <td>Census</td>\n",
       "      <td>Census - Population</td>\n",
       "      <td>United States Census Bureau</td>\n",
       "      <td>Count</td>\n",
       "      <td>4114534</td>\n",
       "      <td>Male</td>\n",
       "      <td>Total</td>\n",
       "      <td>...</td>\n",
       "      <td>PEP_2018_PEPAGESEX, Factfinder2.census.gov</td>\n",
       "      <td>06/24/2019 12:00:00 AM</td>\n",
       "      <td>51.0</td>\n",
       "      <td>CEN</td>\n",
       "      <td>100CEN</td>\n",
       "      <td>100POP</td>\n",
       "      <td>2GEN</td>\n",
       "      <td>8AGE</td>\n",
       "      <td>4</td>\n",
       "      <td>NaN</td>\n",
       "    </tr>\n",
       "    <tr>\n",
       "      <th>1</th>\n",
       "      <td>2010</td>\n",
       "      <td>KY</td>\n",
       "      <td>Kentucky</td>\n",
       "      <td>Census</td>\n",
       "      <td>Census - Population</td>\n",
       "      <td>United States Census Bureau</td>\n",
       "      <td>Count</td>\n",
       "      <td>2208769</td>\n",
       "      <td>Female</td>\n",
       "      <td>Total</td>\n",
       "      <td>...</td>\n",
       "      <td>PEP_2018_PEPAGESEX, Factfinder2.census.gov</td>\n",
       "      <td>06/24/2019 12:00:00 AM</td>\n",
       "      <td>21.0</td>\n",
       "      <td>CEN</td>\n",
       "      <td>100CEN</td>\n",
       "      <td>100POP</td>\n",
       "      <td>3GEN</td>\n",
       "      <td>8AGE</td>\n",
       "      <td>7</td>\n",
       "      <td>NaN</td>\n",
       "    </tr>\n",
       "    <tr>\n",
       "      <th>2</th>\n",
       "      <td>2016</td>\n",
       "      <td>AZ</td>\n",
       "      <td>Arizona</td>\n",
       "      <td>Census</td>\n",
       "      <td>Census - Population</td>\n",
       "      <td>United States Census Bureau</td>\n",
       "      <td>Count</td>\n",
       "      <td>5309405</td>\n",
       "      <td>Total</td>\n",
       "      <td>18+</td>\n",
       "      <td>...</td>\n",
       "      <td>PEP_2018_PEPAGESEX, Factfinder2.census.gov</td>\n",
       "      <td>06/24/2019 12:00:00 AM</td>\n",
       "      <td>4.0</td>\n",
       "      <td>CEN</td>\n",
       "      <td>100CEN</td>\n",
       "      <td>100POP</td>\n",
       "      <td>1GEN</td>\n",
       "      <td>10AGE</td>\n",
       "      <td>2</td>\n",
       "      <td>NaN</td>\n",
       "    </tr>\n",
       "    <tr>\n",
       "      <th>3</th>\n",
       "      <td>2010</td>\n",
       "      <td>OR</td>\n",
       "      <td>Oregon</td>\n",
       "      <td>Census</td>\n",
       "      <td>Census - Population</td>\n",
       "      <td>United States Census Bureau</td>\n",
       "      <td>Count</td>\n",
       "      <td>1455526</td>\n",
       "      <td>Male</td>\n",
       "      <td>18+</td>\n",
       "      <td>...</td>\n",
       "      <td>PEP_2018_PEPAGESEX, Factfinder2.census.gov</td>\n",
       "      <td>06/24/2019 12:00:00 AM</td>\n",
       "      <td>41.0</td>\n",
       "      <td>CEN</td>\n",
       "      <td>100CEN</td>\n",
       "      <td>100POP</td>\n",
       "      <td>2GEN</td>\n",
       "      <td>10AGE</td>\n",
       "      <td>5</td>\n",
       "      <td>NaN</td>\n",
       "    </tr>\n",
       "    <tr>\n",
       "      <th>4</th>\n",
       "      <td>2013</td>\n",
       "      <td>RI</td>\n",
       "      <td>Rhode Island</td>\n",
       "      <td>Census</td>\n",
       "      <td>Census - Population</td>\n",
       "      <td>United States Census Bureau</td>\n",
       "      <td>Count</td>\n",
       "      <td>104888</td>\n",
       "      <td>Female</td>\n",
       "      <td>&lt;18</td>\n",
       "      <td>...</td>\n",
       "      <td>PEP_2018_PEPAGESEX, Factfinder2.census.gov</td>\n",
       "      <td>06/24/2019 12:00:00 AM</td>\n",
       "      <td>44.0</td>\n",
       "      <td>CEN</td>\n",
       "      <td>100CEN</td>\n",
       "      <td>100POP</td>\n",
       "      <td>3GEN</td>\n",
       "      <td>11AGE</td>\n",
       "      <td>9</td>\n",
       "      <td>NaN</td>\n",
       "    </tr>\n",
       "  </tbody>\n",
       "</table>\n",
       "<p>5 rows × 21 columns</p>\n",
       "</div>"
      ],
      "text/plain": [
       "   YEAR LocationAbbr  LocationDesc TopicType            TopicDesc  \\\n",
       "0  2015           VA      Virginia    Census  Census - Population   \n",
       "1  2010           KY      Kentucky    Census  Census - Population   \n",
       "2  2016           AZ       Arizona    Census  Census - Population   \n",
       "3  2010           OR        Oregon    Census  Census - Population   \n",
       "4  2013           RI  Rhode Island    Census  Census - Population   \n",
       "\n",
       "                    DataSource Data_Value_Type  Data_Value  Gender    Age  \\\n",
       "0  United States Census Bureau           Count     4114534    Male  Total   \n",
       "1  United States Census Bureau           Count     2208769  Female  Total   \n",
       "2  United States Census Bureau           Count     5309405   Total    18+   \n",
       "3  United States Census Bureau           Count     1455526    Male    18+   \n",
       "4  United States Census Bureau           Count      104888  Female    <18   \n",
       "\n",
       "   ...                            Source_File_USCB             Data_Pulled  \\\n",
       "0  ...  PEP_2018_PEPAGESEX, Factfinder2.census.gov  06/24/2019 12:00:00 AM   \n",
       "1  ...  PEP_2018_PEPAGESEX, Factfinder2.census.gov  06/24/2019 12:00:00 AM   \n",
       "2  ...  PEP_2018_PEPAGESEX, Factfinder2.census.gov  06/24/2019 12:00:00 AM   \n",
       "3  ...  PEP_2018_PEPAGESEX, Factfinder2.census.gov  06/24/2019 12:00:00 AM   \n",
       "4  ...  PEP_2018_PEPAGESEX, Factfinder2.census.gov  06/24/2019 12:00:00 AM   \n",
       "\n",
       "  LocationID  TopicTypeId TopicId MeasureId StratificationID1  \\\n",
       "0       51.0          CEN  100CEN    100POP              2GEN   \n",
       "1       21.0          CEN  100CEN    100POP              3GEN   \n",
       "2        4.0          CEN  100CEN    100POP              1GEN   \n",
       "3       41.0          CEN  100CEN    100POP              2GEN   \n",
       "4       44.0          CEN  100CEN    100POP              3GEN   \n",
       "\n",
       "  StratificationID2 SubMeasureID  DisplayOrder  \n",
       "0              8AGE            4           NaN  \n",
       "1              8AGE            7           NaN  \n",
       "2             10AGE            2           NaN  \n",
       "3             10AGE            5           NaN  \n",
       "4             11AGE            9           NaN  \n",
       "\n",
       "[5 rows x 21 columns]"
      ]
     },
     "execution_count": 16,
     "metadata": {},
     "output_type": "execute_result"
    }
   ],
   "source": [
    "us_census_df.head()"
   ]
  },
  {
   "cell_type": "code",
   "execution_count": 17,
   "metadata": {},
   "outputs": [
    {
     "data": {
      "text/plain": [
       "Index(['YEAR', 'LocationAbbr', 'LocationDesc', 'TopicType', 'TopicDesc',\n",
       "       'DataSource', 'Data_Value_Type', 'Data_Value', 'Gender', 'Age',\n",
       "       'GeoLocation', 'Source_File_USCB', 'Data_Pulled', 'LocationID',\n",
       "       'TopicTypeId', 'TopicId', 'MeasureId', 'StratificationID1',\n",
       "       'StratificationID2', 'SubMeasureID', 'DisplayOrder'],\n",
       "      dtype='object')"
      ]
     },
     "execution_count": 17,
     "metadata": {},
     "output_type": "execute_result"
    }
   ],
   "source": [
    "us_census_df.columns"
   ]
  },
  {
   "cell_type": "code",
   "execution_count": 18,
   "metadata": {},
   "outputs": [],
   "source": [
    "us_census_df.drop([\"Data_Value_Type\", \"Data_Value\", \"GeoLocation\", \"Source_File_USCB\", \"LocationID\", \"TopicTypeId\", \"TopicId\", \"MeasureId\", \"StratificationID1\", \"StratificationID2\", \"SubMeasureID\", \"DisplayOrder\"], axis=1, inplace=True)"
   ]
  },
  {
   "cell_type": "code",
   "execution_count": 19,
   "metadata": {},
   "outputs": [
    {
     "data": {
      "text/plain": [
       "4293"
      ]
     },
     "execution_count": 19,
     "metadata": {},
     "output_type": "execute_result"
    }
   ],
   "source": [
    "len(us_census_df)"
   ]
  },
  {
   "cell_type": "code",
   "execution_count": 20,
   "metadata": {},
   "outputs": [
    {
     "ename": "KeyError",
     "evalue": "\"['TopicDesc' 'DataSource' 'Gender'] not found in axis\"",
     "output_type": "error",
     "traceback": [
      "\u001b[0;31m---------------------------------------------------------------------------\u001b[0m",
      "\u001b[0;31mKeyError\u001b[0m                                  Traceback (most recent call last)",
      "\u001b[0;32m<ipython-input-20-ce0cadcb669e>\u001b[0m in \u001b[0;36m<module>\u001b[0;34m\u001b[0m\n\u001b[0;32m----> 1\u001b[0;31m \u001b[0mus_census_df\u001b[0m\u001b[0;34m.\u001b[0m\u001b[0mdrop\u001b[0m\u001b[0;34m(\u001b[0m\u001b[0;34m[\u001b[0m\u001b[0;34m\"TopicDesc\"\u001b[0m\u001b[0;34m,\u001b[0m \u001b[0;34m\"DataSource\"\u001b[0m\u001b[0;34m,\u001b[0m \u001b[0;34m\"Gender\"\u001b[0m\u001b[0;34m]\u001b[0m\u001b[0;34m)\u001b[0m\u001b[0;34m\u001b[0m\u001b[0;34m\u001b[0m\u001b[0m\n\u001b[0m",
      "\u001b[0;32m~/opt/anaconda3/envs/PythonData1/lib/python3.6/site-packages/pandas/core/frame.py\u001b[0m in \u001b[0;36mdrop\u001b[0;34m(self, labels, axis, index, columns, level, inplace, errors)\u001b[0m\n\u001b[1;32m   4167\u001b[0m             \u001b[0mlevel\u001b[0m\u001b[0;34m=\u001b[0m\u001b[0mlevel\u001b[0m\u001b[0;34m,\u001b[0m\u001b[0;34m\u001b[0m\u001b[0;34m\u001b[0m\u001b[0m\n\u001b[1;32m   4168\u001b[0m             \u001b[0minplace\u001b[0m\u001b[0;34m=\u001b[0m\u001b[0minplace\u001b[0m\u001b[0;34m,\u001b[0m\u001b[0;34m\u001b[0m\u001b[0;34m\u001b[0m\u001b[0m\n\u001b[0;32m-> 4169\u001b[0;31m             \u001b[0merrors\u001b[0m\u001b[0;34m=\u001b[0m\u001b[0merrors\u001b[0m\u001b[0;34m,\u001b[0m\u001b[0;34m\u001b[0m\u001b[0;34m\u001b[0m\u001b[0m\n\u001b[0m\u001b[1;32m   4170\u001b[0m         )\n\u001b[1;32m   4171\u001b[0m \u001b[0;34m\u001b[0m\u001b[0m\n",
      "\u001b[0;32m~/opt/anaconda3/envs/PythonData1/lib/python3.6/site-packages/pandas/core/generic.py\u001b[0m in \u001b[0;36mdrop\u001b[0;34m(self, labels, axis, index, columns, level, inplace, errors)\u001b[0m\n\u001b[1;32m   3882\u001b[0m         \u001b[0;32mfor\u001b[0m \u001b[0maxis\u001b[0m\u001b[0;34m,\u001b[0m \u001b[0mlabels\u001b[0m \u001b[0;32min\u001b[0m \u001b[0maxes\u001b[0m\u001b[0;34m.\u001b[0m\u001b[0mitems\u001b[0m\u001b[0;34m(\u001b[0m\u001b[0;34m)\u001b[0m\u001b[0;34m:\u001b[0m\u001b[0;34m\u001b[0m\u001b[0;34m\u001b[0m\u001b[0m\n\u001b[1;32m   3883\u001b[0m             \u001b[0;32mif\u001b[0m \u001b[0mlabels\u001b[0m \u001b[0;32mis\u001b[0m \u001b[0;32mnot\u001b[0m \u001b[0;32mNone\u001b[0m\u001b[0;34m:\u001b[0m\u001b[0;34m\u001b[0m\u001b[0;34m\u001b[0m\u001b[0m\n\u001b[0;32m-> 3884\u001b[0;31m                 \u001b[0mobj\u001b[0m \u001b[0;34m=\u001b[0m \u001b[0mobj\u001b[0m\u001b[0;34m.\u001b[0m\u001b[0m_drop_axis\u001b[0m\u001b[0;34m(\u001b[0m\u001b[0mlabels\u001b[0m\u001b[0;34m,\u001b[0m \u001b[0maxis\u001b[0m\u001b[0;34m,\u001b[0m \u001b[0mlevel\u001b[0m\u001b[0;34m=\u001b[0m\u001b[0mlevel\u001b[0m\u001b[0;34m,\u001b[0m \u001b[0merrors\u001b[0m\u001b[0;34m=\u001b[0m\u001b[0merrors\u001b[0m\u001b[0;34m)\u001b[0m\u001b[0;34m\u001b[0m\u001b[0;34m\u001b[0m\u001b[0m\n\u001b[0m\u001b[1;32m   3885\u001b[0m \u001b[0;34m\u001b[0m\u001b[0m\n\u001b[1;32m   3886\u001b[0m         \u001b[0;32mif\u001b[0m \u001b[0minplace\u001b[0m\u001b[0;34m:\u001b[0m\u001b[0;34m\u001b[0m\u001b[0;34m\u001b[0m\u001b[0m\n",
      "\u001b[0;32m~/opt/anaconda3/envs/PythonData1/lib/python3.6/site-packages/pandas/core/generic.py\u001b[0m in \u001b[0;36m_drop_axis\u001b[0;34m(self, labels, axis, level, errors)\u001b[0m\n\u001b[1;32m   3916\u001b[0m                 \u001b[0mnew_axis\u001b[0m \u001b[0;34m=\u001b[0m \u001b[0maxis\u001b[0m\u001b[0;34m.\u001b[0m\u001b[0mdrop\u001b[0m\u001b[0;34m(\u001b[0m\u001b[0mlabels\u001b[0m\u001b[0;34m,\u001b[0m \u001b[0mlevel\u001b[0m\u001b[0;34m=\u001b[0m\u001b[0mlevel\u001b[0m\u001b[0;34m,\u001b[0m \u001b[0merrors\u001b[0m\u001b[0;34m=\u001b[0m\u001b[0merrors\u001b[0m\u001b[0;34m)\u001b[0m\u001b[0;34m\u001b[0m\u001b[0;34m\u001b[0m\u001b[0m\n\u001b[1;32m   3917\u001b[0m             \u001b[0;32melse\u001b[0m\u001b[0;34m:\u001b[0m\u001b[0;34m\u001b[0m\u001b[0;34m\u001b[0m\u001b[0m\n\u001b[0;32m-> 3918\u001b[0;31m                 \u001b[0mnew_axis\u001b[0m \u001b[0;34m=\u001b[0m \u001b[0maxis\u001b[0m\u001b[0;34m.\u001b[0m\u001b[0mdrop\u001b[0m\u001b[0;34m(\u001b[0m\u001b[0mlabels\u001b[0m\u001b[0;34m,\u001b[0m \u001b[0merrors\u001b[0m\u001b[0;34m=\u001b[0m\u001b[0merrors\u001b[0m\u001b[0;34m)\u001b[0m\u001b[0;34m\u001b[0m\u001b[0;34m\u001b[0m\u001b[0m\n\u001b[0m\u001b[1;32m   3919\u001b[0m             \u001b[0mresult\u001b[0m \u001b[0;34m=\u001b[0m \u001b[0mself\u001b[0m\u001b[0;34m.\u001b[0m\u001b[0mreindex\u001b[0m\u001b[0;34m(\u001b[0m\u001b[0;34m**\u001b[0m\u001b[0;34m{\u001b[0m\u001b[0maxis_name\u001b[0m\u001b[0;34m:\u001b[0m \u001b[0mnew_axis\u001b[0m\u001b[0;34m}\u001b[0m\u001b[0;34m)\u001b[0m\u001b[0;34m\u001b[0m\u001b[0;34m\u001b[0m\u001b[0m\n\u001b[1;32m   3920\u001b[0m \u001b[0;34m\u001b[0m\u001b[0m\n",
      "\u001b[0;32m~/opt/anaconda3/envs/PythonData1/lib/python3.6/site-packages/pandas/core/indexes/base.py\u001b[0m in \u001b[0;36mdrop\u001b[0;34m(self, labels, errors)\u001b[0m\n\u001b[1;32m   5276\u001b[0m         \u001b[0;32mif\u001b[0m \u001b[0mmask\u001b[0m\u001b[0;34m.\u001b[0m\u001b[0many\u001b[0m\u001b[0;34m(\u001b[0m\u001b[0;34m)\u001b[0m\u001b[0;34m:\u001b[0m\u001b[0;34m\u001b[0m\u001b[0;34m\u001b[0m\u001b[0m\n\u001b[1;32m   5277\u001b[0m             \u001b[0;32mif\u001b[0m \u001b[0merrors\u001b[0m \u001b[0;34m!=\u001b[0m \u001b[0;34m\"ignore\"\u001b[0m\u001b[0;34m:\u001b[0m\u001b[0;34m\u001b[0m\u001b[0;34m\u001b[0m\u001b[0m\n\u001b[0;32m-> 5278\u001b[0;31m                 \u001b[0;32mraise\u001b[0m \u001b[0mKeyError\u001b[0m\u001b[0;34m(\u001b[0m\u001b[0;34mf\"{labels[mask]} not found in axis\"\u001b[0m\u001b[0;34m)\u001b[0m\u001b[0;34m\u001b[0m\u001b[0;34m\u001b[0m\u001b[0m\n\u001b[0m\u001b[1;32m   5279\u001b[0m             \u001b[0mindexer\u001b[0m \u001b[0;34m=\u001b[0m \u001b[0mindexer\u001b[0m\u001b[0;34m[\u001b[0m\u001b[0;34m~\u001b[0m\u001b[0mmask\u001b[0m\u001b[0;34m]\u001b[0m\u001b[0;34m\u001b[0m\u001b[0;34m\u001b[0m\u001b[0m\n\u001b[1;32m   5280\u001b[0m         \u001b[0;32mreturn\u001b[0m \u001b[0mself\u001b[0m\u001b[0;34m.\u001b[0m\u001b[0mdelete\u001b[0m\u001b[0;34m(\u001b[0m\u001b[0mindexer\u001b[0m\u001b[0;34m)\u001b[0m\u001b[0;34m\u001b[0m\u001b[0;34m\u001b[0m\u001b[0m\n",
      "\u001b[0;31mKeyError\u001b[0m: \"['TopicDesc' 'DataSource' 'Gender'] not found in axis\""
     ]
    }
   ],
   "source": [
    "us_census_df.drop([\"TopicDesc\", \"DataSource\", \"Gender\"], )"
   ]
  },
  {
   "cell_type": "code",
   "execution_count": null,
   "metadata": {},
   "outputs": [],
   "source": []
  },
  {
   "cell_type": "code",
   "execution_count": null,
   "metadata": {},
   "outputs": [],
   "source": []
  }
 ],
 "metadata": {
  "kernelspec": {
   "display_name": "Python [conda env:PythonData1] *",
   "language": "python",
   "name": "conda-env-PythonData1-py"
  },
  "language_info": {
   "codemirror_mode": {
    "name": "ipython",
    "version": 3
   },
   "file_extension": ".py",
   "mimetype": "text/x-python",
   "name": "python",
   "nbconvert_exporter": "python",
   "pygments_lexer": "ipython3",
   "version": "3.6.12"
  }
 },
 "nbformat": 4,
 "nbformat_minor": 4
}
