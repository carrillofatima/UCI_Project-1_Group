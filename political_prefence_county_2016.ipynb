{
 "cells": [
  {
   "cell_type": "code",
   "execution_count": 46,
   "metadata": {},
   "outputs": [],
   "source": [
    "import pandas as pd\n",
    "geopolitics_file = \"Resources/2016_US_County_Level_Presidential_Results.csv\"\n",
    "import numpy as np\n",
    "geopolitics_df = pd.read_csv(geopolitics_file)"
   ]
  },
  {
   "cell_type": "code",
   "execution_count": 47,
   "metadata": {},
   "outputs": [
    {
     "data": {
      "text/html": [
       "<div>\n",
       "<style scoped>\n",
       "    .dataframe tbody tr th:only-of-type {\n",
       "        vertical-align: middle;\n",
       "    }\n",
       "\n",
       "    .dataframe tbody tr th {\n",
       "        vertical-align: top;\n",
       "    }\n",
       "\n",
       "    .dataframe thead th {\n",
       "        text-align: right;\n",
       "    }\n",
       "</style>\n",
       "<table border=\"1\" class=\"dataframe\">\n",
       "  <thead>\n",
       "    <tr style=\"text-align: right;\">\n",
       "      <th></th>\n",
       "      <th>Unnamed: 0</th>\n",
       "      <th>votes_dem</th>\n",
       "      <th>votes_gop</th>\n",
       "      <th>total_votes</th>\n",
       "      <th>per_dem</th>\n",
       "      <th>per_gop</th>\n",
       "      <th>diff</th>\n",
       "      <th>per_point_diff</th>\n",
       "      <th>state_abbr</th>\n",
       "      <th>county_name</th>\n",
       "      <th>combined_fips</th>\n",
       "    </tr>\n",
       "  </thead>\n",
       "  <tbody>\n",
       "    <tr>\n",
       "      <th>0</th>\n",
       "      <td>0</td>\n",
       "      <td>93003.0</td>\n",
       "      <td>130413.0</td>\n",
       "      <td>246588.0</td>\n",
       "      <td>0.377159</td>\n",
       "      <td>0.52887</td>\n",
       "      <td>37,410</td>\n",
       "      <td>15.17%</td>\n",
       "      <td>AK</td>\n",
       "      <td>Alaska</td>\n",
       "      <td>2013</td>\n",
       "    </tr>\n",
       "    <tr>\n",
       "      <th>1</th>\n",
       "      <td>1</td>\n",
       "      <td>93003.0</td>\n",
       "      <td>130413.0</td>\n",
       "      <td>246588.0</td>\n",
       "      <td>0.377159</td>\n",
       "      <td>0.52887</td>\n",
       "      <td>37,410</td>\n",
       "      <td>15.17%</td>\n",
       "      <td>AK</td>\n",
       "      <td>Alaska</td>\n",
       "      <td>2016</td>\n",
       "    </tr>\n",
       "    <tr>\n",
       "      <th>2</th>\n",
       "      <td>2</td>\n",
       "      <td>93003.0</td>\n",
       "      <td>130413.0</td>\n",
       "      <td>246588.0</td>\n",
       "      <td>0.377159</td>\n",
       "      <td>0.52887</td>\n",
       "      <td>37,410</td>\n",
       "      <td>15.17%</td>\n",
       "      <td>AK</td>\n",
       "      <td>Alaska</td>\n",
       "      <td>2020</td>\n",
       "    </tr>\n",
       "    <tr>\n",
       "      <th>3</th>\n",
       "      <td>3</td>\n",
       "      <td>93003.0</td>\n",
       "      <td>130413.0</td>\n",
       "      <td>246588.0</td>\n",
       "      <td>0.377159</td>\n",
       "      <td>0.52887</td>\n",
       "      <td>37,410</td>\n",
       "      <td>15.17%</td>\n",
       "      <td>AK</td>\n",
       "      <td>Alaska</td>\n",
       "      <td>2050</td>\n",
       "    </tr>\n",
       "    <tr>\n",
       "      <th>4</th>\n",
       "      <td>4</td>\n",
       "      <td>93003.0</td>\n",
       "      <td>130413.0</td>\n",
       "      <td>246588.0</td>\n",
       "      <td>0.377159</td>\n",
       "      <td>0.52887</td>\n",
       "      <td>37,410</td>\n",
       "      <td>15.17%</td>\n",
       "      <td>AK</td>\n",
       "      <td>Alaska</td>\n",
       "      <td>2060</td>\n",
       "    </tr>\n",
       "  </tbody>\n",
       "</table>\n",
       "</div>"
      ],
      "text/plain": [
       "   Unnamed: 0  votes_dem  votes_gop  total_votes   per_dem  per_gop    diff  \\\n",
       "0           0    93003.0   130413.0     246588.0  0.377159  0.52887  37,410   \n",
       "1           1    93003.0   130413.0     246588.0  0.377159  0.52887  37,410   \n",
       "2           2    93003.0   130413.0     246588.0  0.377159  0.52887  37,410   \n",
       "3           3    93003.0   130413.0     246588.0  0.377159  0.52887  37,410   \n",
       "4           4    93003.0   130413.0     246588.0  0.377159  0.52887  37,410   \n",
       "\n",
       "  per_point_diff state_abbr county_name  combined_fips  \n",
       "0         15.17%         AK      Alaska           2013  \n",
       "1         15.17%         AK      Alaska           2016  \n",
       "2         15.17%         AK      Alaska           2020  \n",
       "3         15.17%         AK      Alaska           2050  \n",
       "4         15.17%         AK      Alaska           2060  "
      ]
     },
     "execution_count": 47,
     "metadata": {},
     "output_type": "execute_result"
    }
   ],
   "source": [
    "geopolitics_df.head()"
   ]
  },
  {
   "cell_type": "code",
   "execution_count": 48,
   "metadata": {},
   "outputs": [
    {
     "data": {
      "text/plain": [
       "(3141, 11)"
      ]
     },
     "execution_count": 48,
     "metadata": {},
     "output_type": "execute_result"
    }
   ],
   "source": [
    "geopolitics_df.shape"
   ]
  },
  {
   "cell_type": "code",
   "execution_count": 49,
   "metadata": {},
   "outputs": [],
   "source": [
    "geopolitics_df.drop([\"Unnamed: 0\"], axis=1, inplace=True)"
   ]
  },
  {
   "cell_type": "code",
   "execution_count": 50,
   "metadata": {},
   "outputs": [
    {
     "data": {
      "text/plain": [
       "votes_dem         3141\n",
       "votes_gop         3141\n",
       "total_votes       3141\n",
       "per_dem           3141\n",
       "per_gop           3141\n",
       "diff              3141\n",
       "per_point_diff    3141\n",
       "state_abbr        3141\n",
       "county_name       3141\n",
       "combined_fips     3141\n",
       "dtype: int64"
      ]
     },
     "execution_count": 50,
     "metadata": {},
     "output_type": "execute_result"
    }
   ],
   "source": [
    "geopolitics_df.count()"
   ]
  },
  {
   "cell_type": "code",
   "execution_count": 51,
   "metadata": {},
   "outputs": [],
   "source": [
    "geopolitics_df.drop([\"per_dem\", \"per_gop\", \"diff\"], inplace=True, axis=1)"
   ]
  },
  {
   "cell_type": "code",
   "execution_count": 52,
   "metadata": {},
   "outputs": [],
   "source": [
    "geopolitics_df.drop([\"per_point_diff\", \"combined_fips\"], inplace=True, axis=1)"
   ]
  },
  {
   "cell_type": "code",
   "execution_count": 53,
   "metadata": {},
   "outputs": [],
   "source": [
    "geopolitics_df_duplicates_removed = pd.DataFrame.drop_duplicates(geopolitics_df)"
   ]
  },
  {
   "cell_type": "code",
   "execution_count": 54,
   "metadata": {},
   "outputs": [],
   "source": [
    "clean_politics_2016_df = pd.DataFrame(geopolitics_df_duplicates_removed)"
   ]
  },
  {
   "cell_type": "code",
   "execution_count": 55,
   "metadata": {},
   "outputs": [
    {
     "data": {
      "text/html": [
       "<div>\n",
       "<style scoped>\n",
       "    .dataframe tbody tr th:only-of-type {\n",
       "        vertical-align: middle;\n",
       "    }\n",
       "\n",
       "    .dataframe tbody tr th {\n",
       "        vertical-align: top;\n",
       "    }\n",
       "\n",
       "    .dataframe thead th {\n",
       "        text-align: right;\n",
       "    }\n",
       "</style>\n",
       "<table border=\"1\" class=\"dataframe\">\n",
       "  <thead>\n",
       "    <tr style=\"text-align: right;\">\n",
       "      <th></th>\n",
       "      <th>votes_dem</th>\n",
       "      <th>votes_gop</th>\n",
       "      <th>total_votes</th>\n",
       "      <th>state_abbr</th>\n",
       "      <th>county_name</th>\n",
       "    </tr>\n",
       "  </thead>\n",
       "  <tbody>\n",
       "    <tr>\n",
       "      <th>0</th>\n",
       "      <td>93003.0</td>\n",
       "      <td>130413.0</td>\n",
       "      <td>246588.0</td>\n",
       "      <td>AK</td>\n",
       "      <td>Alaska</td>\n",
       "    </tr>\n",
       "    <tr>\n",
       "      <th>29</th>\n",
       "      <td>5908.0</td>\n",
       "      <td>18110.0</td>\n",
       "      <td>24661.0</td>\n",
       "      <td>AL</td>\n",
       "      <td>Autauga County</td>\n",
       "    </tr>\n",
       "    <tr>\n",
       "      <th>30</th>\n",
       "      <td>18409.0</td>\n",
       "      <td>72780.0</td>\n",
       "      <td>94090.0</td>\n",
       "      <td>AL</td>\n",
       "      <td>Baldwin County</td>\n",
       "    </tr>\n",
       "    <tr>\n",
       "      <th>31</th>\n",
       "      <td>4848.0</td>\n",
       "      <td>5431.0</td>\n",
       "      <td>10390.0</td>\n",
       "      <td>AL</td>\n",
       "      <td>Barbour County</td>\n",
       "    </tr>\n",
       "    <tr>\n",
       "      <th>32</th>\n",
       "      <td>1874.0</td>\n",
       "      <td>6733.0</td>\n",
       "      <td>8748.0</td>\n",
       "      <td>AL</td>\n",
       "      <td>Bibb County</td>\n",
       "    </tr>\n",
       "    <tr>\n",
       "      <th>...</th>\n",
       "      <td>...</td>\n",
       "      <td>...</td>\n",
       "      <td>...</td>\n",
       "      <td>...</td>\n",
       "      <td>...</td>\n",
       "    </tr>\n",
       "    <tr>\n",
       "      <th>3136</th>\n",
       "      <td>3233.0</td>\n",
       "      <td>12153.0</td>\n",
       "      <td>16661.0</td>\n",
       "      <td>WY</td>\n",
       "      <td>Sweetwater County</td>\n",
       "    </tr>\n",
       "    <tr>\n",
       "      <th>3137</th>\n",
       "      <td>7313.0</td>\n",
       "      <td>3920.0</td>\n",
       "      <td>12176.0</td>\n",
       "      <td>WY</td>\n",
       "      <td>Teton County</td>\n",
       "    </tr>\n",
       "    <tr>\n",
       "      <th>3138</th>\n",
       "      <td>1202.0</td>\n",
       "      <td>6154.0</td>\n",
       "      <td>8053.0</td>\n",
       "      <td>WY</td>\n",
       "      <td>Uinta County</td>\n",
       "    </tr>\n",
       "    <tr>\n",
       "      <th>3139</th>\n",
       "      <td>532.0</td>\n",
       "      <td>2911.0</td>\n",
       "      <td>3715.0</td>\n",
       "      <td>WY</td>\n",
       "      <td>Washakie County</td>\n",
       "    </tr>\n",
       "    <tr>\n",
       "      <th>3140</th>\n",
       "      <td>294.0</td>\n",
       "      <td>2898.0</td>\n",
       "      <td>3334.0</td>\n",
       "      <td>WY</td>\n",
       "      <td>Weston County</td>\n",
       "    </tr>\n",
       "  </tbody>\n",
       "</table>\n",
       "<p>3113 rows × 5 columns</p>\n",
       "</div>"
      ],
      "text/plain": [
       "      votes_dem  votes_gop  total_votes state_abbr        county_name\n",
       "0       93003.0   130413.0     246588.0         AK             Alaska\n",
       "29       5908.0    18110.0      24661.0         AL     Autauga County\n",
       "30      18409.0    72780.0      94090.0         AL     Baldwin County\n",
       "31       4848.0     5431.0      10390.0         AL     Barbour County\n",
       "32       1874.0     6733.0       8748.0         AL        Bibb County\n",
       "...         ...        ...          ...        ...                ...\n",
       "3136     3233.0    12153.0      16661.0         WY  Sweetwater County\n",
       "3137     7313.0     3920.0      12176.0         WY       Teton County\n",
       "3138     1202.0     6154.0       8053.0         WY       Uinta County\n",
       "3139      532.0     2911.0       3715.0         WY    Washakie County\n",
       "3140      294.0     2898.0       3334.0         WY      Weston County\n",
       "\n",
       "[3113 rows x 5 columns]"
      ]
     },
     "execution_count": 55,
     "metadata": {},
     "output_type": "execute_result"
    }
   ],
   "source": [
    "clean_politics_2016_df"
   ]
  },
  {
   "cell_type": "code",
   "execution_count": 56,
   "metadata": {},
   "outputs": [
    {
     "data": {
      "text/plain": [
       "0       False\n",
       "29      False\n",
       "30      False\n",
       "31      False\n",
       "32      False\n",
       "        ...  \n",
       "3136    False\n",
       "3137    False\n",
       "3138    False\n",
       "3139    False\n",
       "3140    False\n",
       "Length: 3113, dtype: bool"
      ]
     },
     "execution_count": 56,
     "metadata": {},
     "output_type": "execute_result"
    }
   ],
   "source": [
    "clean_politics_2016_df.duplicated()"
   ]
  },
  {
   "cell_type": "code",
   "execution_count": 57,
   "metadata": {},
   "outputs": [
    {
     "data": {
      "text/plain": [
       "(3113, 5)"
      ]
     },
     "execution_count": 57,
     "metadata": {},
     "output_type": "execute_result"
    }
   ],
   "source": [
    "clean_politics_2016_df.shape"
   ]
  },
  {
   "cell_type": "code",
   "execution_count": 58,
   "metadata": {},
   "outputs": [
    {
     "data": {
      "text/html": [
       "<div>\n",
       "<style scoped>\n",
       "    .dataframe tbody tr th:only-of-type {\n",
       "        vertical-align: middle;\n",
       "    }\n",
       "\n",
       "    .dataframe tbody tr th {\n",
       "        vertical-align: top;\n",
       "    }\n",
       "\n",
       "    .dataframe thead th {\n",
       "        text-align: right;\n",
       "    }\n",
       "</style>\n",
       "<table border=\"1\" class=\"dataframe\">\n",
       "  <thead>\n",
       "    <tr style=\"text-align: right;\">\n",
       "      <th></th>\n",
       "      <th>votes_dem</th>\n",
       "      <th>votes_gop</th>\n",
       "      <th>total_votes</th>\n",
       "      <th>state_abbr</th>\n",
       "      <th>county_name</th>\n",
       "    </tr>\n",
       "  </thead>\n",
       "  <tbody>\n",
       "    <tr>\n",
       "      <th>0</th>\n",
       "      <td>93003.0</td>\n",
       "      <td>130413.0</td>\n",
       "      <td>246588.0</td>\n",
       "      <td>AK</td>\n",
       "      <td>Alaska</td>\n",
       "    </tr>\n",
       "    <tr>\n",
       "      <th>29</th>\n",
       "      <td>5908.0</td>\n",
       "      <td>18110.0</td>\n",
       "      <td>24661.0</td>\n",
       "      <td>AL</td>\n",
       "      <td>Autauga County</td>\n",
       "    </tr>\n",
       "    <tr>\n",
       "      <th>30</th>\n",
       "      <td>18409.0</td>\n",
       "      <td>72780.0</td>\n",
       "      <td>94090.0</td>\n",
       "      <td>AL</td>\n",
       "      <td>Baldwin County</td>\n",
       "    </tr>\n",
       "    <tr>\n",
       "      <th>31</th>\n",
       "      <td>4848.0</td>\n",
       "      <td>5431.0</td>\n",
       "      <td>10390.0</td>\n",
       "      <td>AL</td>\n",
       "      <td>Barbour County</td>\n",
       "    </tr>\n",
       "    <tr>\n",
       "      <th>32</th>\n",
       "      <td>1874.0</td>\n",
       "      <td>6733.0</td>\n",
       "      <td>8748.0</td>\n",
       "      <td>AL</td>\n",
       "      <td>Bibb County</td>\n",
       "    </tr>\n",
       "    <tr>\n",
       "      <th>...</th>\n",
       "      <td>...</td>\n",
       "      <td>...</td>\n",
       "      <td>...</td>\n",
       "      <td>...</td>\n",
       "      <td>...</td>\n",
       "    </tr>\n",
       "    <tr>\n",
       "      <th>3136</th>\n",
       "      <td>3233.0</td>\n",
       "      <td>12153.0</td>\n",
       "      <td>16661.0</td>\n",
       "      <td>WY</td>\n",
       "      <td>Sweetwater County</td>\n",
       "    </tr>\n",
       "    <tr>\n",
       "      <th>3137</th>\n",
       "      <td>7313.0</td>\n",
       "      <td>3920.0</td>\n",
       "      <td>12176.0</td>\n",
       "      <td>WY</td>\n",
       "      <td>Teton County</td>\n",
       "    </tr>\n",
       "    <tr>\n",
       "      <th>3138</th>\n",
       "      <td>1202.0</td>\n",
       "      <td>6154.0</td>\n",
       "      <td>8053.0</td>\n",
       "      <td>WY</td>\n",
       "      <td>Uinta County</td>\n",
       "    </tr>\n",
       "    <tr>\n",
       "      <th>3139</th>\n",
       "      <td>532.0</td>\n",
       "      <td>2911.0</td>\n",
       "      <td>3715.0</td>\n",
       "      <td>WY</td>\n",
       "      <td>Washakie County</td>\n",
       "    </tr>\n",
       "    <tr>\n",
       "      <th>3140</th>\n",
       "      <td>294.0</td>\n",
       "      <td>2898.0</td>\n",
       "      <td>3334.0</td>\n",
       "      <td>WY</td>\n",
       "      <td>Weston County</td>\n",
       "    </tr>\n",
       "  </tbody>\n",
       "</table>\n",
       "<p>3113 rows × 5 columns</p>\n",
       "</div>"
      ],
      "text/plain": [
       "      votes_dem  votes_gop  total_votes state_abbr        county_name\n",
       "0       93003.0   130413.0     246588.0         AK             Alaska\n",
       "29       5908.0    18110.0      24661.0         AL     Autauga County\n",
       "30      18409.0    72780.0      94090.0         AL     Baldwin County\n",
       "31       4848.0     5431.0      10390.0         AL     Barbour County\n",
       "32       1874.0     6733.0       8748.0         AL        Bibb County\n",
       "...         ...        ...          ...        ...                ...\n",
       "3136     3233.0    12153.0      16661.0         WY  Sweetwater County\n",
       "3137     7313.0     3920.0      12176.0         WY       Teton County\n",
       "3138     1202.0     6154.0       8053.0         WY       Uinta County\n",
       "3139      532.0     2911.0       3715.0         WY    Washakie County\n",
       "3140      294.0     2898.0       3334.0         WY      Weston County\n",
       "\n",
       "[3113 rows x 5 columns]"
      ]
     },
     "execution_count": 58,
     "metadata": {},
     "output_type": "execute_result"
    }
   ],
   "source": [
    "clean_politics_2016_df"
   ]
  },
  {
   "cell_type": "code",
   "execution_count": 59,
   "metadata": {},
   "outputs": [],
   "source": [
    "# I created the new column \"poli_pref\" by dividing the rows in the \"votes_dem\" column by the rows in the \"votesd_gop\" column.\n",
    "\n",
    "clean_politics_2016_df[\"poli_pref\"] = (clean_politics_2016_df[\"votes_dem\"]/clean_politics_2016_df[\"votes_gop\"]).round(2)"
   ]
  },
  {
   "cell_type": "code",
   "execution_count": 60,
   "metadata": {},
   "outputs": [
    {
     "data": {
      "text/html": [
       "<div>\n",
       "<style scoped>\n",
       "    .dataframe tbody tr th:only-of-type {\n",
       "        vertical-align: middle;\n",
       "    }\n",
       "\n",
       "    .dataframe tbody tr th {\n",
       "        vertical-align: top;\n",
       "    }\n",
       "\n",
       "    .dataframe thead th {\n",
       "        text-align: right;\n",
       "    }\n",
       "</style>\n",
       "<table border=\"1\" class=\"dataframe\">\n",
       "  <thead>\n",
       "    <tr style=\"text-align: right;\">\n",
       "      <th></th>\n",
       "      <th>votes_dem</th>\n",
       "      <th>votes_gop</th>\n",
       "      <th>total_votes</th>\n",
       "      <th>state_abbr</th>\n",
       "      <th>county_name</th>\n",
       "      <th>poli_pref</th>\n",
       "    </tr>\n",
       "  </thead>\n",
       "  <tbody>\n",
       "    <tr>\n",
       "      <th>3136</th>\n",
       "      <td>3233.0</td>\n",
       "      <td>12153.0</td>\n",
       "      <td>16661.0</td>\n",
       "      <td>WY</td>\n",
       "      <td>Sweetwater County</td>\n",
       "      <td>0.27</td>\n",
       "    </tr>\n",
       "    <tr>\n",
       "      <th>3137</th>\n",
       "      <td>7313.0</td>\n",
       "      <td>3920.0</td>\n",
       "      <td>12176.0</td>\n",
       "      <td>WY</td>\n",
       "      <td>Teton County</td>\n",
       "      <td>1.87</td>\n",
       "    </tr>\n",
       "    <tr>\n",
       "      <th>3138</th>\n",
       "      <td>1202.0</td>\n",
       "      <td>6154.0</td>\n",
       "      <td>8053.0</td>\n",
       "      <td>WY</td>\n",
       "      <td>Uinta County</td>\n",
       "      <td>0.20</td>\n",
       "    </tr>\n",
       "    <tr>\n",
       "      <th>3139</th>\n",
       "      <td>532.0</td>\n",
       "      <td>2911.0</td>\n",
       "      <td>3715.0</td>\n",
       "      <td>WY</td>\n",
       "      <td>Washakie County</td>\n",
       "      <td>0.18</td>\n",
       "    </tr>\n",
       "    <tr>\n",
       "      <th>3140</th>\n",
       "      <td>294.0</td>\n",
       "      <td>2898.0</td>\n",
       "      <td>3334.0</td>\n",
       "      <td>WY</td>\n",
       "      <td>Weston County</td>\n",
       "      <td>0.10</td>\n",
       "    </tr>\n",
       "  </tbody>\n",
       "</table>\n",
       "</div>"
      ],
      "text/plain": [
       "      votes_dem  votes_gop  total_votes state_abbr        county_name  \\\n",
       "3136     3233.0    12153.0      16661.0         WY  Sweetwater County   \n",
       "3137     7313.0     3920.0      12176.0         WY       Teton County   \n",
       "3138     1202.0     6154.0       8053.0         WY       Uinta County   \n",
       "3139      532.0     2911.0       3715.0         WY    Washakie County   \n",
       "3140      294.0     2898.0       3334.0         WY      Weston County   \n",
       "\n",
       "      poli_pref  \n",
       "3136       0.27  \n",
       "3137       1.87  \n",
       "3138       0.20  \n",
       "3139       0.18  \n",
       "3140       0.10  "
      ]
     },
     "execution_count": 60,
     "metadata": {},
     "output_type": "execute_result"
    }
   ],
   "source": [
    "clean_politics_2016_df.tail()"
   ]
  },
  {
   "cell_type": "raw",
   "metadata": {},
   "source": []
  },
  {
   "cell_type": "code",
   "execution_count": 61,
   "metadata": {},
   "outputs": [
    {
     "data": {
      "text/plain": [
       "2064.4700000000007"
      ]
     },
     "execution_count": 61,
     "metadata": {},
     "output_type": "execute_result"
    }
   ],
   "source": [
    "sum(clean_politics_2016_df[\"poli_pref\"])"
   ]
  },
  {
   "cell_type": "code",
   "execution_count": 62,
   "metadata": {},
   "outputs": [
    {
     "data": {
      "text/html": [
       "<div>\n",
       "<style scoped>\n",
       "    .dataframe tbody tr th:only-of-type {\n",
       "        vertical-align: middle;\n",
       "    }\n",
       "\n",
       "    .dataframe tbody tr th {\n",
       "        vertical-align: top;\n",
       "    }\n",
       "\n",
       "    .dataframe thead th {\n",
       "        text-align: right;\n",
       "    }\n",
       "</style>\n",
       "<table border=\"1\" class=\"dataframe\">\n",
       "  <thead>\n",
       "    <tr style=\"text-align: right;\">\n",
       "      <th></th>\n",
       "      <th>votes_dem</th>\n",
       "      <th>votes_gop</th>\n",
       "      <th>total_votes</th>\n",
       "      <th>state_abbr</th>\n",
       "      <th>county_name</th>\n",
       "      <th>poli_pref</th>\n",
       "    </tr>\n",
       "  </thead>\n",
       "  <tbody>\n",
       "    <tr>\n",
       "      <th>316</th>\n",
       "      <td>260223.0</td>\n",
       "      <td>11553.0</td>\n",
       "      <td>280272.0</td>\n",
       "      <td>DC</td>\n",
       "      <td>District of Columbia</td>\n",
       "      <td>22.52</td>\n",
       "    </tr>\n",
       "    <tr>\n",
       "      <th>1206</th>\n",
       "      <td>313627.0</td>\n",
       "      <td>29290.0</td>\n",
       "      <td>351091.0</td>\n",
       "      <td>MD</td>\n",
       "      <td>Prince George's County</td>\n",
       "      <td>10.71</td>\n",
       "    </tr>\n",
       "    <tr>\n",
       "      <th>2411</th>\n",
       "      <td>2504.0</td>\n",
       "      <td>241.0</td>\n",
       "      <td>2896.0</td>\n",
       "      <td>SD</td>\n",
       "      <td>Oglala County</td>\n",
       "      <td>10.39</td>\n",
       "    </tr>\n",
       "    <tr>\n",
       "      <th>1982</th>\n",
       "      <td>318403.0</td>\n",
       "      <td>34424.0</td>\n",
       "      <td>358857.0</td>\n",
       "      <td>NY</td>\n",
       "      <td>Bronx County</td>\n",
       "      <td>9.25</td>\n",
       "    </tr>\n",
       "    <tr>\n",
       "      <th>223</th>\n",
       "      <td>312443.0</td>\n",
       "      <td>34493.0</td>\n",
       "      <td>365295.0</td>\n",
       "      <td>CA</td>\n",
       "      <td>San Francisco County</td>\n",
       "      <td>9.06</td>\n",
       "    </tr>\n",
       "    <tr>\n",
       "      <th>...</th>\n",
       "      <td>...</td>\n",
       "      <td>...</td>\n",
       "      <td>...</td>\n",
       "      <td>...</td>\n",
       "      <td>...</td>\n",
       "      <td>...</td>\n",
       "    </tr>\n",
       "    <tr>\n",
       "      <th>1613</th>\n",
       "      <td>34.0</td>\n",
       "      <td>653.0</td>\n",
       "      <td>715.0</td>\n",
       "      <td>MT</td>\n",
       "      <td>Garfield County</td>\n",
       "      <td>0.05</td>\n",
       "    </tr>\n",
       "    <tr>\n",
       "      <th>1865</th>\n",
       "      <td>14.0</td>\n",
       "      <td>257.0</td>\n",
       "      <td>286.0</td>\n",
       "      <td>NE</td>\n",
       "      <td>McPherson County</td>\n",
       "      <td>0.05</td>\n",
       "    </tr>\n",
       "    <tr>\n",
       "      <th>1843</th>\n",
       "      <td>20.0</td>\n",
       "      <td>367.0</td>\n",
       "      <td>394.0</td>\n",
       "      <td>NE</td>\n",
       "      <td>Grant County</td>\n",
       "      <td>0.05</td>\n",
       "    </tr>\n",
       "    <tr>\n",
       "      <th>2718</th>\n",
       "      <td>20.0</td>\n",
       "      <td>524.0</td>\n",
       "      <td>550.0</td>\n",
       "      <td>TX</td>\n",
       "      <td>Roberts County</td>\n",
       "      <td>0.04</td>\n",
       "    </tr>\n",
       "    <tr>\n",
       "      <th>2656</th>\n",
       "      <td>5.0</td>\n",
       "      <td>149.0</td>\n",
       "      <td>159.0</td>\n",
       "      <td>TX</td>\n",
       "      <td>King County</td>\n",
       "      <td>0.03</td>\n",
       "    </tr>\n",
       "  </tbody>\n",
       "</table>\n",
       "<p>3113 rows × 6 columns</p>\n",
       "</div>"
      ],
      "text/plain": [
       "      votes_dem  votes_gop  total_votes state_abbr             county_name  \\\n",
       "316    260223.0    11553.0     280272.0         DC    District of Columbia   \n",
       "1206   313627.0    29290.0     351091.0         MD  Prince George's County   \n",
       "2411     2504.0      241.0       2896.0         SD           Oglala County   \n",
       "1982   318403.0    34424.0     358857.0         NY            Bronx County   \n",
       "223    312443.0    34493.0     365295.0         CA    San Francisco County   \n",
       "...         ...        ...          ...        ...                     ...   \n",
       "1613       34.0      653.0        715.0         MT         Garfield County   \n",
       "1865       14.0      257.0        286.0         NE        McPherson County   \n",
       "1843       20.0      367.0        394.0         NE            Grant County   \n",
       "2718       20.0      524.0        550.0         TX          Roberts County   \n",
       "2656        5.0      149.0        159.0         TX             King County   \n",
       "\n",
       "      poli_pref  \n",
       "316       22.52  \n",
       "1206      10.71  \n",
       "2411      10.39  \n",
       "1982       9.25  \n",
       "223        9.06  \n",
       "...         ...  \n",
       "1613       0.05  \n",
       "1865       0.05  \n",
       "1843       0.05  \n",
       "2718       0.04  \n",
       "2656       0.03  \n",
       "\n",
       "[3113 rows x 6 columns]"
      ]
     },
     "execution_count": 62,
     "metadata": {},
     "output_type": "execute_result"
    }
   ],
   "source": [
    "# I did not set up te calculation so that a poli_pref value of \"1\" represents a neutral county. \n",
    "# Instead it was set-up so that the higher the poli_pref value you is, the more democractics the county is.\n",
    "# the DataFrame below has the order of counties listed by their poli-pref number, \n",
    "# in descending order, i.e. Washington D.C is the most Democratic county\n",
    "\n",
    "\n",
    "clean_politics_2016_df.sort_values([\"poli_pref\"], ascending=False)"
   ]
  },
  {
   "cell_type": "code",
   "execution_count": 63,
   "metadata": {},
   "outputs": [],
   "source": [
    "# I grouped the clean_politics_2016 DataFrame by the states abbreviated name. \n",
    "# this should help us to get the data we need on the state level vs. the county level\n",
    "# There is a big discrepancy between the Dataframe brfotre I did the groupby (3113 vs 244) \n",
    "\n",
    "grouped_state_df = clean_politics_2016_df.groupby(clean_politics_2016_df[\"state_abbr\"])"
   ]
  },
  {
   "cell_type": "code",
   "execution_count": 96,
   "metadata": {},
   "outputs": [
    {
     "data": {
      "text/plain": [
       "<pandas.core.groupby.generic.DataFrameGroupBy object at 0x7f8fcfa24940>"
      ]
     },
     "execution_count": 96,
     "metadata": {},
     "output_type": "execute_result"
    }
   ],
   "source": [
    "grouped_state_df"
   ]
  },
  {
   "cell_type": "code",
   "execution_count": 97,
   "metadata": {},
   "outputs": [
    {
     "data": {
      "text/plain": [
       "51"
      ]
     },
     "execution_count": 97,
     "metadata": {},
     "output_type": "execute_result"
    }
   ],
   "source": [
    "len(grouped_state_df)"
   ]
  },
  {
   "cell_type": "code",
   "execution_count": 98,
   "metadata": {},
   "outputs": [
    {
     "data": {
      "text/plain": [
       "51"
      ]
     },
     "execution_count": 98,
     "metadata": {},
     "output_type": "execute_result"
    }
   ],
   "source": [
    "len(grouped_state_df)"
   ]
  },
  {
   "cell_type": "code",
   "execution_count": null,
   "metadata": {},
   "outputs": [],
   "source": [
    "\n"
   ]
  },
  {
   "cell_type": "code",
   "execution_count": null,
   "metadata": {},
   "outputs": [],
   "source": []
  }
 ],
 "metadata": {
  "kernelspec": {
   "display_name": "Python [conda env:PythonData1] *",
   "language": "python",
   "name": "conda-env-PythonData1-py"
  },
  "language_info": {
   "codemirror_mode": {
    "name": "ipython",
    "version": 3
   },
   "file_extension": ".py",
   "mimetype": "text/x-python",
   "name": "python",
   "nbconvert_exporter": "python",
   "pygments_lexer": "ipython3",
   "version": "3.6.12"
  }
 },
 "nbformat": 4,
 "nbformat_minor": 4
}
