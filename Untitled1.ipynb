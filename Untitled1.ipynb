{
 "cells": [
  {
   "cell_type": "code",
   "execution_count": 1,
   "metadata": {},
   "outputs": [],
   "source": [
    "import pandas as pd\n"
   ]
  },
  {
   "cell_type": "code",
   "execution_count": 2,
   "metadata": {},
   "outputs": [],
   "source": [
    "final_data = \"output/final_dataframe.csv\"\n",
    "\n",
    "final_data = pd.read_csv(final_data)"
   ]
  },
  {
   "cell_type": "code",
   "execution_count": 12,
   "metadata": {},
   "outputs": [
    {
     "data": {
      "text/html": [
       "<div>\n",
       "<style scoped>\n",
       "    .dataframe tbody tr th:only-of-type {\n",
       "        vertical-align: middle;\n",
       "    }\n",
       "\n",
       "    .dataframe tbody tr th {\n",
       "        vertical-align: top;\n",
       "    }\n",
       "\n",
       "    .dataframe thead th {\n",
       "        text-align: right;\n",
       "    }\n",
       "</style>\n",
       "<table border=\"1\" class=\"dataframe\">\n",
       "  <thead>\n",
       "    <tr style=\"text-align: right;\">\n",
       "      <th></th>\n",
       "      <th>States</th>\n",
       "      <th>date</th>\n",
       "      <th>Total positive</th>\n",
       "      <th>Total negaitive</th>\n",
       "      <th>Total test</th>\n",
       "      <th>Total Deaths</th>\n",
       "      <th>votes_dem</th>\n",
       "      <th>votes_gop</th>\n",
       "      <th>Party Score</th>\n",
       "    </tr>\n",
       "  </thead>\n",
       "  <tbody>\n",
       "    <tr>\n",
       "      <th>0</th>\n",
       "      <td>Alabama</td>\n",
       "      <td>Apr</td>\n",
       "      <td>6038.0</td>\n",
       "      <td>73879.0</td>\n",
       "      <td>79917.0</td>\n",
       "      <td>4044</td>\n",
       "      <td>718084.0</td>\n",
       "      <td>1306925.0</td>\n",
       "      <td>0.549445</td>\n",
       "    </tr>\n",
       "    <tr>\n",
       "      <th>1</th>\n",
       "      <td>Alabama</td>\n",
       "      <td>Aug</td>\n",
       "      <td>38335.0</td>\n",
       "      <td>257485.0</td>\n",
       "      <td>289359.0</td>\n",
       "      <td>58883</td>\n",
       "      <td>718084.0</td>\n",
       "      <td>1306925.0</td>\n",
       "      <td>0.549445</td>\n",
       "    </tr>\n",
       "    <tr>\n",
       "      <th>2</th>\n",
       "      <td>Alabama</td>\n",
       "      <td>Jul</td>\n",
       "      <td>49678.0</td>\n",
       "      <td>233137.0</td>\n",
       "      <td>280879.0</td>\n",
       "      <td>38436</td>\n",
       "      <td>718084.0</td>\n",
       "      <td>1306925.0</td>\n",
       "      <td>0.549445</td>\n",
       "    </tr>\n",
       "    <tr>\n",
       "      <th>3</th>\n",
       "      <td>Alabama</td>\n",
       "      <td>Jun</td>\n",
       "      <td>20142.0</td>\n",
       "      <td>168957.0</td>\n",
       "      <td>184836.0</td>\n",
       "      <td>23697</td>\n",
       "      <td>718084.0</td>\n",
       "      <td>1306925.0</td>\n",
       "      <td>0.549445</td>\n",
       "    </tr>\n",
       "    <tr>\n",
       "      <th>4</th>\n",
       "      <td>Alabama</td>\n",
       "      <td>Mar</td>\n",
       "      <td>981.0</td>\n",
       "      <td>6288.0</td>\n",
       "      <td>7269.0</td>\n",
       "      <td>42</td>\n",
       "      <td>718084.0</td>\n",
       "      <td>1306925.0</td>\n",
       "      <td>0.549445</td>\n",
       "    </tr>\n",
       "    <tr>\n",
       "      <th>5</th>\n",
       "      <td>Alabama</td>\n",
       "      <td>May</td>\n",
       "      <td>10884.0</td>\n",
       "      <td>119473.0</td>\n",
       "      <td>134111.0</td>\n",
       "      <td>14438</td>\n",
       "      <td>718084.0</td>\n",
       "      <td>1306925.0</td>\n",
       "      <td>0.549445</td>\n",
       "    </tr>\n",
       "    <tr>\n",
       "      <th>6</th>\n",
       "      <td>Alabama</td>\n",
       "      <td>Oct</td>\n",
       "      <td>19827.0</td>\n",
       "      <td>118084.0</td>\n",
       "      <td>133536.0</td>\n",
       "      <td>53320</td>\n",
       "      <td>718084.0</td>\n",
       "      <td>1306925.0</td>\n",
       "      <td>0.549445</td>\n",
       "    </tr>\n",
       "  </tbody>\n",
       "</table>\n",
       "</div>"
      ],
      "text/plain": [
       "    States date  Total positive  Total negaitive  Total test  Total Deaths  \\\n",
       "0  Alabama  Apr          6038.0          73879.0     79917.0          4044   \n",
       "1  Alabama  Aug         38335.0         257485.0    289359.0         58883   \n",
       "2  Alabama  Jul         49678.0         233137.0    280879.0         38436   \n",
       "3  Alabama  Jun         20142.0         168957.0    184836.0         23697   \n",
       "4  Alabama  Mar           981.0           6288.0      7269.0            42   \n",
       "5  Alabama  May         10884.0         119473.0    134111.0         14438   \n",
       "6  Alabama  Oct         19827.0         118084.0    133536.0         53320   \n",
       "\n",
       "   votes_dem  votes_gop  Party Score  \n",
       "0   718084.0  1306925.0     0.549445  \n",
       "1   718084.0  1306925.0     0.549445  \n",
       "2   718084.0  1306925.0     0.549445  \n",
       "3   718084.0  1306925.0     0.549445  \n",
       "4   718084.0  1306925.0     0.549445  \n",
       "5   718084.0  1306925.0     0.549445  \n",
       "6   718084.0  1306925.0     0.549445  "
      ]
     },
     "execution_count": 12,
     "metadata": {},
     "output_type": "execute_result"
    }
   ],
   "source": [
    "final_data_df = pd.DataFrame(final_data)\n",
    "final_data_df.head(7)"
   ]
  },
  {
   "cell_type": "code",
   "execution_count": 10,
   "metadata": {},
   "outputs": [
    {
     "data": {
      "text/plain": [
       "26938585"
      ]
     },
     "execution_count": 10,
     "metadata": {},
     "output_type": "execute_result"
    }
   ],
   "source": [
    "final_data_df['Total Deaths'].sum()"
   ]
  },
  {
   "cell_type": "code",
   "execution_count": null,
   "metadata": {},
   "outputs": [],
   "source": []
  }
 ],
 "metadata": {
  "kernelspec": {
   "display_name": "Python [conda env:PythonData1] *",
   "language": "python",
   "name": "conda-env-PythonData1-py"
  },
  "language_info": {
   "codemirror_mode": {
    "name": "ipython",
    "version": 3
   },
   "file_extension": ".py",
   "mimetype": "text/x-python",
   "name": "python",
   "nbconvert_exporter": "python",
   "pygments_lexer": "ipython3",
   "version": "3.6.12"
  }
 },
 "nbformat": 4,
 "nbformat_minor": 4
}
